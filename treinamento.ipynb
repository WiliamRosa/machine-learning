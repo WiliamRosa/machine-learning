{
 "cells": [
  {
   "cell_type": "code",
   "execution_count": 30,
   "metadata": {},
   "outputs": [
    {
     "name": "stdout",
     "output_type": "stream",
     "text": [
      "[1 1]\n",
      "Treinando...\n",
      "Treinamento realizado\n"
     ]
    }
   ],
   "source": [
    "import cv2\n",
    "import os\n",
    "import numpy as np\n",
    "\n",
    "eigenface = cv2.face.EigenFaceRecognizer_create()\n",
    "fisherface = cv2.face.FisherFaceRecognizer_create()\n",
    "lbph = cv2.face.LBPHFaceRecognizer_create()\n",
    "\n",
    "def getImagemComId():\n",
    "    caminhos = [os.path.join('fotos', f) for f in os.listdir('fotos')]\n",
    "    #print(caminhos)\n",
    "    faces = []\n",
    "    ids = []\n",
    "    for caminhoImagem in caminhos:\n",
    "        imagemFace = cv2.cvtColor(cv2.imread(caminhoImagem), cv2.COLOR_BGR2GRAY)\n",
    "        #print(caminhoImagem)\n",
    "        id = int(os.path.split(caminhoImagem)[-1].split('.')[1])\n",
    "        #print(id)\n",
    "        ids.append(id)\n",
    "        faces.append(imagemFace)\n",
    "        #cv2.imshow(\"Face\", imagemFace)\n",
    "        #cv2.waitKey(10)\n",
    "    return np.array(ids), faces\n",
    "\n",
    "ids, faces = getImagemComId()\n",
    "print(ids)\n",
    "\n",
    "print(\"Treinando...\")\n",
    "lbph.train(faces, ids)\n",
    "lbph.write('classificadorLBPH.yml')\n",
    "\n",
    "eigenface.train(faces, ids)\n",
    "eigenface.write('classificadorEigen.yml')\n",
    "\n",
    "#fisherface.train(faces, ids) --não consegui treinar este método\n",
    "#fisherface.write('classificadorFisher.yml')\n",
    "\n",
    "\n",
    "\n",
    "print(\"Treinamento realizado\")"
   ]
  },
  {
   "cell_type": "code",
   "execution_count": null,
   "metadata": {},
   "outputs": [],
   "source": []
  }
 ],
 "metadata": {
  "kernelspec": {
   "display_name": "Python 3",
   "language": "python",
   "name": "python3"
  },
  "language_info": {
   "codemirror_mode": {
    "name": "ipython",
    "version": 3
   },
   "file_extension": ".py",
   "mimetype": "text/x-python",
   "name": "python",
   "nbconvert_exporter": "python",
   "pygments_lexer": "ipython3",
   "version": "3.9.0"
  }
 },
 "nbformat": 4,
 "nbformat_minor": 4
}
