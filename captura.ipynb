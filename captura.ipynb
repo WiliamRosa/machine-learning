{
 "cells": [
  {
   "cell_type": "code",
   "execution_count": null,
   "metadata": {},
   "outputs": [],
   "source": [
    "import cv2\n",
    "import numpy as np\n",
    "\n",
    "classificador = cv2.CascadeClassifier(\"haarcascade-frontalface-default.xml\")\n",
    "classificadorOlho = cv2.CascadeClassifier(\"haarcascade-eye.xml\")\n",
    "camera = cv2.VideoCapture(0)\n",
    "amostra = 1\n",
    "numeroAmostra = 25\n",
    "id = input('Digite seu identificador: ')\n",
    "largura, altura = 220, 220\n",
    "print(\"Capturando as faces...\")\n",
    "\n",
    "\n",
    "while(True):\n",
    "    conectado, imagem = camera.read()\n",
    "    imagemCinza = cv2.cvtColor(imagem, cv2.COLOR_BGR2GRAY)\n",
    "    #print (np.average(imagemCinza))\n",
    "    facesDetectadas = classificador.detectMultiScale(imagemCinza, scaleFactor=1.5, minSize=(150,150))\n",
    "\n",
    "    for(x, y, l, a) in facesDetectadas:\n",
    "        cv2.rectangle(imagem, (x,y), (x + l, y+ a), (0, 0, 255), 2)\n",
    "        regiao = imagem[y:y + a, x:x + l]\n",
    "        regiaoCinzaOlho = cv2.cvtColor(regiao, cv2.COLOR_BGR2GRAY)\n",
    "        olhosDetectatos = classificadorOlho.detectMultiScale(regiaoCinzaOlho)\n",
    "        for (ox, oy, ol, oa) in olhosDetectatos:\n",
    "            cv2.rectangle(regiao, (ox, oy), (ox + ol, oy + oa), (0, 255, 0), 2)\n",
    "\n",
    "            if cv2.waitKey(1) & 0xFF == ord('q'):\n",
    "                if np.average(imagemCinza) > 110:\n",
    "                    imagemFace = cv2.resize(imagemCinza[y:y + a, x:x + l], (largura, altura))\n",
    "                    cv2.imwrite(\"fotos/pessoa.\" + str(id) + \".\" + str(amostra) + \".jpg\", imagemFace)\n",
    "                    print(\"[foto\" + str(amostra) + \" capturada com sucesso]\")\n",
    "                    amostra += 1\n",
    "\n",
    "    cv2.imshow(\"Face\", imagem)\n",
    "    cv2.waitKey(1)\n",
    "    if(amostra >= numeroAmostra +1):\n",
    "        break\n",
    "\n",
    "print (\"Faces capturadas com sucesso\")\n",
    "camera.release()\n",
    "cv2.destroyAllWindows()"
   ]
  },
  {
   "cell_type": "code",
   "execution_count": null,
   "metadata": {},
   "outputs": [],
   "source": []
  }
 ],
 "metadata": {
  "kernelspec": {
   "display_name": "Python 3",
   "language": "python",
   "name": "python3"
  },
  "language_info": {
   "codemirror_mode": {
    "name": "ipython",
    "version": 3
   },
   "file_extension": ".py",
   "mimetype": "text/x-python",
   "name": "python",
   "nbconvert_exporter": "python",
   "pygments_lexer": "ipython3",
   "version": "3.9.0"
  }
 },
 "nbformat": 4,
 "nbformat_minor": 4
}
