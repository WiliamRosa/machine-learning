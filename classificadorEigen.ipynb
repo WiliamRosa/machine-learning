{
 "cells": [
  {
   "cell_type": "code",
   "execution_count": 1,
   "metadata": {},
   "outputs": [
    {
     "ename": "KeyboardInterrupt",
     "evalue": "",
     "output_type": "error",
     "traceback": [
      "\u001b[1;31m---------------------------------------------------------------------------\u001b[0m",
      "\u001b[1;31mKeyboardInterrupt\u001b[0m                         Traceback (most recent call last)",
      "\u001b[1;32m<ipython-input-1-f1a32e4e0164>\u001b[0m in \u001b[0;36m<module>\u001b[1;34m\u001b[0m\n\u001b[0;32m     11\u001b[0m     \u001b[0mconectado\u001b[0m\u001b[1;33m,\u001b[0m \u001b[0mimagem\u001b[0m \u001b[1;33m=\u001b[0m \u001b[0mcamera\u001b[0m\u001b[1;33m.\u001b[0m\u001b[0mread\u001b[0m\u001b[1;33m(\u001b[0m\u001b[1;33m)\u001b[0m\u001b[1;33m\u001b[0m\u001b[1;33m\u001b[0m\u001b[0m\n\u001b[0;32m     12\u001b[0m     \u001b[0mimagemCinza\u001b[0m \u001b[1;33m=\u001b[0m \u001b[0mcv2\u001b[0m\u001b[1;33m.\u001b[0m\u001b[0mcvtColor\u001b[0m\u001b[1;33m(\u001b[0m\u001b[0mimagem\u001b[0m\u001b[1;33m,\u001b[0m \u001b[0mcv2\u001b[0m\u001b[1;33m.\u001b[0m\u001b[0mCOLOR_BGR2GRAY\u001b[0m\u001b[1;33m)\u001b[0m\u001b[1;33m\u001b[0m\u001b[1;33m\u001b[0m\u001b[0m\n\u001b[1;32m---> 13\u001b[1;33m     \u001b[0mfacesDetectadas\u001b[0m \u001b[1;33m=\u001b[0m \u001b[0mdetectorFace\u001b[0m\u001b[1;33m.\u001b[0m\u001b[0mdetectMultiScale\u001b[0m\u001b[1;33m(\u001b[0m\u001b[0mimagemCinza\u001b[0m\u001b[1;33m,\u001b[0m \u001b[0mscaleFactor\u001b[0m\u001b[1;33m=\u001b[0m\u001b[1;36m1.5\u001b[0m\u001b[1;33m,\u001b[0m \u001b[0mminSize\u001b[0m\u001b[1;33m=\u001b[0m\u001b[1;33m(\u001b[0m\u001b[1;36m30\u001b[0m\u001b[1;33m,\u001b[0m\u001b[1;36m30\u001b[0m\u001b[1;33m)\u001b[0m\u001b[1;33m)\u001b[0m\u001b[1;33m\u001b[0m\u001b[1;33m\u001b[0m\u001b[0m\n\u001b[0m\u001b[0;32m     14\u001b[0m \u001b[1;33m\u001b[0m\u001b[0m\n\u001b[0;32m     15\u001b[0m     \u001b[1;32mfor\u001b[0m \u001b[1;33m(\u001b[0m\u001b[0mx\u001b[0m\u001b[1;33m,\u001b[0m \u001b[0my\u001b[0m\u001b[1;33m,\u001b[0m \u001b[0ml\u001b[0m\u001b[1;33m,\u001b[0m \u001b[0ma\u001b[0m\u001b[1;33m)\u001b[0m \u001b[1;32min\u001b[0m \u001b[0mfacesDetectadas\u001b[0m\u001b[1;33m:\u001b[0m\u001b[1;33m\u001b[0m\u001b[1;33m\u001b[0m\u001b[0m\n",
      "\u001b[1;31mKeyboardInterrupt\u001b[0m: "
     ]
    }
   ],
   "source": [
    "import cv2\n",
    "\n",
    "detectorFace = cv2.CascadeClassifier(\"haarcascade-frontalface-default.xml\")\n",
    "reconhecedor = cv2.face.EigenFaceRecognizer_create()\n",
    "reconhecedor.read(\"classificadorEigen.yml\")\n",
    "largura, altura = 220, 220\n",
    "font = cv2.FONT_HERSHEY_COMPLEX_SMALL\n",
    "camera = cv2.VideoCapture(0)\n",
    "\n",
    "while (True):\n",
    "    conectado, imagem = camera.read()\n",
    "    imagemCinza = cv2.cvtColor(imagem, cv2.COLOR_BGR2GRAY)\n",
    "    facesDetectadas = detectorFace.detectMultiScale(imagemCinza, scaleFactor=1.5, minSize=(30,30))\n",
    "\n",
    "    for (x, y, l, a) in facesDetectadas:\n",
    "        imagemFace = cv2.resize(imagemCinza[y:y + a, x:x + l], (largura, altura))\n",
    "        cv2.rectangle(imagem, (x, y), (x + l, y + a), (0,0,255), 2)\n",
    "        id, confianca = reconhecedor.predict(imagemFace)\n",
    "        nome = \"\"\n",
    "        if id == 1:\n",
    "            nome = 'Wiliam'\n",
    "            cv2.rectangle(imagem, (x, y), (x + l, y + a), (0, 255, 0), 2)\n",
    "            cv2.putText(imagem, nome, (x,y +(a+30)), font, 2, (0,255,0))\n",
    "            cv2.putText(imagem, str(confianca),(x,y +(a+50)), font, 1, (0,255,0))\n",
    "        else:\n",
    "            nome = 'Desconhecido'\n",
    "            cv2.putText(imagem, nome, (x,y +(a+30)), font, 2, (0,0,255))\n",
    "            cv2.putText(imagem, str(confianca),(x,y +(a+50)), font, 1, (0,0,255))\n",
    "    cv2.imshow(\"Face\", imagem)\n",
    "    if cv2.waitKey(1) == ord('q'):\n",
    "        break\n",
    "\n",
    "\n",
    "camera.release()\n",
    "cv2.destroyAllWindows()"
   ]
  },
  {
   "cell_type": "code",
   "execution_count": null,
   "metadata": {},
   "outputs": [],
   "source": []
  }
 ],
 "metadata": {
  "kernelspec": {
   "display_name": "Python 3",
   "language": "python",
   "name": "python3"
  },
  "language_info": {
   "codemirror_mode": {
    "name": "ipython",
    "version": 3
   },
   "file_extension": ".py",
   "mimetype": "text/x-python",
   "name": "python",
   "nbconvert_exporter": "python",
   "pygments_lexer": "ipython3",
   "version": "3.9.0"
  }
 },
 "nbformat": 4,
 "nbformat_minor": 4
}
